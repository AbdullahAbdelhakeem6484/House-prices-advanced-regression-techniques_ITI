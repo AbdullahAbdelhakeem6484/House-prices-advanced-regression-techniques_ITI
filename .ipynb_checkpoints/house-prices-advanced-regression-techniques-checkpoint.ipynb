{
 "cells": [
  {
   "cell_type": "markdown",
   "metadata": {},
   "source": [
    "<h1><center> house-prices-advanced-regression-techniques</center></h1>\n",
    "<h1> Content</h1>"
   ]
  },
  {
   "cell_type": "markdown",
   "metadata": {},
   "source": [
    "* [I. Getting started](#I)\n",
    "    * [1. Importing some basic libraries](#I_1)\n",
    "    * [2. Loading data](#I_2)\n",
    "    * [3. Preliminary cleaning](#I_2)\n",
    "\n",
    "\n",
    "* [II. Missing values](#II)\n",
    "    * [1. Visualising NaNs](#II_1)\n",
    "    * [2. Imputing NaN values. Training set](#II_2)\n",
    "    * [3. Imputing NaN values. Test set](#II_3)\n",
    "    \n",
    "   \n",
    "* [III. EDA](#III)\n",
    "    * [1. Visualising potential numeric variables](#III_1)\n",
    "    * [2. Visualising categorical variables](#III_2)\n",
    "\n",
    "\n",
    "* [IV. Feature engineering](#IV)\n",
    "    * [1. Dealing with outliers](#IV_1)\n",
    "    * [2. Adding some new variables](#IV_2)\n",
    "    * [3. Binning imbalanced features](#IV_3)\n",
    "    * [4. Transforming skewed variables](#IV_4)\n",
    "    * [5. Encoding variables](#IV_5)\n",
    "    * [6. Getting the final training and test sets](#IV_6)\n",
    "\n",
    "\n",
    "* [V. Building models](#V)\n",
    "    * [1. Tuning modelss](#V_1)\n",
    "    * [2. Stacking](#V_2)\n",
    "\n",
    "\n",
    "* [VI. Some techniques that could have been useful](#VI)\n",
    "    * [1. Feature interactions](#VI_1)"
   ]
  },
  {
   "cell_type": "markdown",
   "metadata": {},
   "source": [
    "<h1><center> I. Getting started </center></h1> <a class=\"anchor\" id = \"I\"></a>"
   ]
  },
  {
   "cell_type": "markdown",
   "metadata": {},
   "source": [
    "## 1. Importing some basic libraries <a class=\"anchor\" id = \"I_1\"></a>"
   ]
  },
  {
   "cell_type": "code",
   "execution_count": null,
   "metadata": {
    "execution": {
     "iopub.execute_input": "2021-10-04T15:52:31.852449Z",
     "iopub.status.busy": "2021-10-04T15:52:31.85173Z",
     "iopub.status.idle": "2021-10-04T15:52:31.859556Z",
     "shell.execute_reply": "2021-10-04T15:52:31.858215Z",
     "shell.execute_reply.started": "2021-10-04T15:52:31.852402Z"
    }
   },
   "outputs": [],
   "source": [
    "import numpy as np\n",
    "import pandas as pd\n",
    "\n",
    "import seaborn as sns\n",
    "import matplotlib as mpl\n",
    "import matplotlib.pyplot as plt"
   ]
  },
  {
   "cell_type": "markdown",
   "metadata": {},
   "source": [
    "## 2. Loading data <a class=\"anchor\" id = \"I_2\"></a>"
   ]
  },
  {
   "cell_type": "code",
   "execution_count": null,
   "metadata": {
    "execution": {
     "iopub.execute_input": "2021-10-04T15:52:31.907911Z",
     "iopub.status.busy": "2021-10-04T15:52:31.907608Z",
     "iopub.status.idle": "2021-10-04T15:52:31.957898Z",
     "shell.execute_reply": "2021-10-04T15:52:31.957039Z",
     "shell.execute_reply.started": "2021-10-04T15:52:31.907879Z"
    }
   },
   "outputs": [],
   "source": [
    "df_train = pd.read_csv('train.csv')\n",
    "df_test = pd.read_csv('test.csv')"
   ]
  },
  {
   "cell_type": "markdown",
   "metadata": {},
   "source": [
    "## 3. Preliminary cleaning <a class=\"anchor\" id = \"I_3\"></a>"
   ]
  },
  {
   "cell_type": "markdown",
   "metadata": {},
   "source": [
    "I want to delete \"Id\" columns, as they won't provide us with any useful information."
   ]
  },
  {
   "cell_type": "code",
   "execution_count": null,
   "metadata": {
    "execution": {
     "iopub.execute_input": "2021-10-04T15:52:31.978842Z",
     "iopub.status.busy": "2021-10-04T15:52:31.97853Z",
     "iopub.status.idle": "2021-10-04T15:52:31.987235Z",
     "shell.execute_reply": "2021-10-04T15:52:31.986507Z",
     "shell.execute_reply.started": "2021-10-04T15:52:31.978811Z"
    }
   },
   "outputs": [],
   "source": [
    "df_train = df_train.drop(columns = 'Id')\n",
    "df_test = df_test.drop(columns = 'Id')"
   ]
  },
  {
   "cell_type": "markdown",
   "metadata": {},
   "source": [
    "Next, let's make sure that columns that have a limited range of values don't have any obviously incorrect observations. To do so we can simply utilise the following function:"
   ]
  },
  {
   "cell_type": "code",
   "execution_count": null,
   "metadata": {
    "execution": {
     "iopub.execute_input": "2021-10-04T15:52:32.044079Z",
     "iopub.status.busy": "2021-10-04T15:52:32.043334Z",
     "iopub.status.idle": "2021-10-04T15:52:32.049132Z",
     "shell.execute_reply": "2021-10-04T15:52:32.048091Z",
     "shell.execute_reply.started": "2021-10-04T15:52:32.044042Z"
    }
   },
   "outputs": [],
   "source": [
    "Check_years = df_train.columns[df_train.columns.str.contains(pat = 'Year|Yr')] "
   ]
  },
  {
   "cell_type": "code",
   "execution_count": null,
   "metadata": {
    "execution": {
     "iopub.execute_input": "2021-10-04T15:52:32.099058Z",
     "iopub.status.busy": "2021-10-04T15:52:32.098731Z",
     "iopub.status.idle": "2021-10-04T15:52:32.109943Z",
     "shell.execute_reply": "2021-10-04T15:52:32.109355Z",
     "shell.execute_reply.started": "2021-10-04T15:52:32.099027Z"
    }
   },
   "outputs": [],
   "source": [
    "df_train[Check_years.values].max().sort_values(ascending = False)"
   ]
  },
  {
   "cell_type": "code",
   "execution_count": null,
   "metadata": {
    "execution": {
     "iopub.execute_input": "2021-10-04T15:52:32.112317Z",
     "iopub.status.busy": "2021-10-04T15:52:32.111393Z",
     "iopub.status.idle": "2021-10-04T15:52:32.128208Z",
     "shell.execute_reply": "2021-10-04T15:52:32.126939Z",
     "shell.execute_reply.started": "2021-10-04T15:52:32.112277Z"
    }
   },
   "outputs": [],
   "source": [
    "df_test[Check_years.values].max().sort_values(ascending = False)"
   ]
  },
  {
   "cell_type": "markdown",
   "metadata": {},
   "source": [
    "The year 2207 was replaced the mode of the column."
   ]
  },
  {
   "cell_type": "code",
   "execution_count": null,
   "metadata": {
    "execution": {
     "iopub.execute_input": "2021-10-04T15:52:32.209446Z",
     "iopub.status.busy": "2021-10-04T15:52:32.209011Z",
     "iopub.status.idle": "2021-10-04T15:52:32.216898Z",
     "shell.execute_reply": "2021-10-04T15:52:32.216106Z",
     "shell.execute_reply.started": "2021-10-04T15:52:32.209416Z"
    }
   },
   "outputs": [],
   "source": [
    "Replace_year = df_test.loc[(df_test['GarageYrBlt'] > 2050), 'GarageYrBlt'].index.tolist()\n",
    "df_test.loc[Replace_year, 'GarageYrBlt'] = df_test['GarageYrBlt'].mode()"
   ]
  },
  {
   "cell_type": "markdown",
   "metadata": {},
   "source": [
    "<h1><center> II. Missing values </center></h1> <a class=\"anchor\" id = \"II\"></a>"
   ]
  },
  {
   "cell_type": "markdown",
   "metadata": {},
   "source": [
    "## 1. Visualising NaNs <a class=\"anchor\" id = \"II_1\"></a>"
   ]
  },
  {
   "cell_type": "markdown",
   "metadata": {},
   "source": [
    "Before we can build any models or engineer some features, we have to deal with missing values. First of all, I created a visual representation of NaN values that helped me understand their structure."
   ]
  },
  {
   "cell_type": "code",
   "execution_count": null,
   "metadata": {
    "execution": {
     "iopub.execute_input": "2021-10-04T15:52:32.297954Z",
     "iopub.status.busy": "2021-10-04T15:52:32.297531Z",
     "iopub.status.idle": "2021-10-04T15:52:32.322648Z",
     "shell.execute_reply": "2021-10-04T15:52:32.321461Z",
     "shell.execute_reply.started": "2021-10-04T15:52:32.297923Z"
    }
   },
   "outputs": [],
   "source": [
    "train_missing = df_train.count().loc[df_train.count() < 1460].sort_values(ascending = False)"
   ]
  },
  {
   "cell_type": "markdown",
   "metadata": {},
   "source": [
    "Setting some global parameters for all plots was done with the aid of <code style = \"background-color: #faedde\">sns.set_theme(rc = {})</code>."
   ]
  },
  {
   "cell_type": "code",
   "execution_count": null,
   "metadata": {
    "execution": {
     "iopub.execute_input": "2021-10-04T16:15:44.696316Z",
     "iopub.status.busy": "2021-10-04T16:15:44.695992Z",
     "iopub.status.idle": "2021-10-04T16:15:44.703344Z",
     "shell.execute_reply": "2021-10-04T16:15:44.702117Z",
     "shell.execute_reply.started": "2021-10-04T16:15:44.696284Z"
    }
   },
   "outputs": [],
   "source": [
    "sns.set_theme(rc = {'grid.linewidth': 0.5,\n",
    "                    'axes.linewidth': 0.75, 'axes.facecolor': '#fff3e9', 'axes.labelcolor': '#6b1000',\n",
    "                    'figure.facecolor': '#f7e7da',\n",
    "                    'xtick.labelcolor': '#6b1000', 'ytick.labelcolor': '#6b1000'})"
   ]
  },
  {
   "cell_type": "code",
   "execution_count": null,
   "metadata": {
    "_kg_hide-input": true,
    "execution": {
     "iopub.execute_input": "2021-10-04T16:11:43.00461Z",
     "iopub.status.busy": "2021-10-04T16:11:43.004291Z",
     "iopub.status.idle": "2021-10-04T16:11:43.408086Z",
     "shell.execute_reply": "2021-10-04T16:11:43.407011Z",
     "shell.execute_reply.started": "2021-10-04T16:11:43.004576Z"
    }
   },
   "outputs": [],
   "source": [
    "with plt.rc_context(rc = {'figure.dpi': 120, 'axes.labelsize': 8.5, \n",
    "                          'xtick.labelsize': 6, 'ytick.labelsize': 6}): \n",
    "\n",
    "    fig, ax = plt.subplots(1, 1, figsize = (6, 4))\n",
    "\n",
    "    sns.barplot(x = train_missing.values, y = train_missing.index, palette = 'viridis')\n",
    "\n",
    "    plt.xlabel('Non-Na values')\n",
    "\n",
    "    plt.show()"
   ]
  },
  {
   "cell_type": "code",
   "execution_count": null,
   "metadata": {
    "execution": {
     "iopub.execute_input": "2021-10-04T15:52:33.785203Z",
     "iopub.status.busy": "2021-10-04T15:52:33.784441Z",
     "iopub.status.idle": "2021-10-04T15:52:33.810375Z",
     "shell.execute_reply": "2021-10-04T15:52:33.809164Z",
     "shell.execute_reply.started": "2021-10-04T15:52:33.785162Z"
    }
   },
   "outputs": [],
   "source": [
    "test_missing = df_test.count().loc[df_test.count() < 1459].sort_values(ascending = False)"
   ]
  },
  {
   "cell_type": "code",
   "execution_count": null,
   "metadata": {
    "_kg_hide-input": true,
    "execution": {
     "iopub.execute_input": "2021-10-04T15:52:33.812685Z",
     "iopub.status.busy": "2021-10-04T15:52:33.811833Z",
     "iopub.status.idle": "2021-10-04T15:52:34.32613Z",
     "shell.execute_reply": "2021-10-04T15:52:34.325102Z",
     "shell.execute_reply.started": "2021-10-04T15:52:33.81265Z"
    }
   },
   "outputs": [],
   "source": [
    "with plt.rc_context(rc = {'figure.dpi': 120, 'axes.labelsize': 8.5, \n",
    "                          'xtick.labelsize': 6, 'ytick.labelsize': 6}):\n",
    "    \n",
    "    fig, ax = plt.subplots(1, 1, figsize = (7, 6))\n",
    "\n",
    "    sns.barplot(x = test_missing.values, y = test_missing.index, palette = 'viridis')\n",
    "\n",
    "    plt.xlabel('Non-Na values')\n",
    "\n",
    "    plt.show()"
   ]
  },
  {
   "cell_type": "markdown",
   "metadata": {},
   "source": [
    "Based on data description, we can conclude that NaN values in some columns are actually a category, namely \"Not present\". So, instead of dropping these columns, we can make them \"clean\"."
   ]
  },
  {
   "cell_type": "code",
   "execution_count": null,
   "metadata": {
    "execution": {
     "iopub.execute_input": "2021-10-04T15:52:34.328847Z",
     "iopub.status.busy": "2021-10-04T15:52:34.328532Z",
     "iopub.status.idle": "2021-10-04T15:52:34.334268Z",
     "shell.execute_reply": "2021-10-04T15:52:34.333254Z",
     "shell.execute_reply.started": "2021-10-04T15:52:34.328815Z"
    }
   },
   "outputs": [],
   "source": [
    "None_category = ['PoolQC', 'MiscFeature', 'Alley', 'Fence', \n",
    "                 'FireplaceQu', 'GarageCond', 'GarageQual', \n",
    "                 'GarageFinish', 'GarageType', 'BsmtCond', \n",
    "                 'BsmtExposure', 'BsmtQual', 'BsmtFinType1', \n",
    "                 'BsmtFinType2']"
   ]
  },
  {
   "cell_type": "code",
   "execution_count": null,
   "metadata": {
    "execution": {
     "iopub.execute_input": "2021-10-04T15:52:34.336164Z",
     "iopub.status.busy": "2021-10-04T15:52:34.335823Z",
     "iopub.status.idle": "2021-10-04T15:52:34.370543Z",
     "shell.execute_reply": "2021-10-04T15:52:34.369764Z",
     "shell.execute_reply.started": "2021-10-04T15:52:34.336127Z"
    }
   },
   "outputs": [],
   "source": [
    "for column in None_category:\n",
    "    \n",
    "    df_train.loc[df_train[column].isnull(), column] = 'None'\n",
    "    df_test.loc[df_test[column].isnull(), column] = 'None'"
   ]
  },
  {
   "cell_type": "markdown",
   "metadata": {},
   "source": [
    "## 2. Imputing NaN values. Training set <a class=\"anchor\" id = \"II_2\"></a>"
   ]
  },
  {
   "cell_type": "code",
   "execution_count": null,
   "metadata": {
    "execution": {
     "iopub.execute_input": "2021-10-04T15:52:34.372551Z",
     "iopub.status.busy": "2021-10-04T15:52:34.371767Z",
     "iopub.status.idle": "2021-10-04T15:52:34.395924Z",
     "shell.execute_reply": "2021-10-04T15:52:34.394612Z",
     "shell.execute_reply.started": "2021-10-04T15:52:34.372501Z"
    }
   },
   "outputs": [],
   "source": [
    "df_train.loc[:, df_train.isna().sum() > 0].isna().sum().sort_values(ascending = False)"
   ]
  },
  {
   "cell_type": "markdown",
   "metadata": {},
   "source": [
    "I used KNN imputer when the number of missing values was relatively large; however, when there were only few NaNs, I thought that replacing them with the mode or mean of a respective column was a reasonable choice."
   ]
  },
  {
   "cell_type": "markdown",
   "metadata": {},
   "source": [
    "### 2.1 \"LotFrontage\""
   ]
  },
  {
   "cell_type": "code",
   "execution_count": null,
   "metadata": {
    "execution": {
     "iopub.execute_input": "2021-10-04T15:52:34.397532Z",
     "iopub.status.busy": "2021-10-04T15:52:34.397272Z",
     "iopub.status.idle": "2021-10-04T15:52:34.403075Z",
     "shell.execute_reply": "2021-10-04T15:52:34.402185Z",
     "shell.execute_reply.started": "2021-10-04T15:52:34.397503Z"
    }
   },
   "outputs": [],
   "source": [
    "from sklearn.impute import KNNImputer\n",
    "from sklearn.preprocessing import StandardScaler\n",
    "from sklearn.preprocessing import RobustScaler"
   ]
  },
  {
   "cell_type": "markdown",
   "metadata": {},
   "source": [
    "Actually, separating variables by their type had been done before this step through analysing graphs; nevertheless, since EDA is never linear I decided to utilise some pieces of code that had been written beforehand.\n",
    "\n",
    "I also want to mention that I imputed NaN values in numeric columns using only numeric variables and categorical columns using only categorical variables."
   ]
  },
  {
   "cell_type": "code",
   "execution_count": null,
   "metadata": {
    "execution": {
     "iopub.execute_input": "2021-10-04T15:52:34.405447Z",
     "iopub.status.busy": "2021-10-04T15:52:34.404594Z",
     "iopub.status.idle": "2021-10-04T15:52:34.41903Z",
     "shell.execute_reply": "2021-10-04T15:52:34.418186Z",
     "shell.execute_reply.started": "2021-10-04T15:52:34.405396Z"
    }
   },
   "outputs": [],
   "source": [
    "cont_vars = ['LotFrontage', 'LotArea', 'MasVnrArea', 'BsmtFinSF1', \n",
    "             'BsmtFinSF2', 'BsmtUnfSF', 'TotalBsmtSF', '1stFlrSF', \n",
    "             '2ndFlrSF', 'GrLivArea', 'GarageArea', 'WoodDeckSF', \n",
    "             'OpenPorchSF', 'EnclosedPorch', 'ScreenPorch']"
   ]
  },
  {
   "cell_type": "markdown",
   "metadata": {},
   "source": [
    "Remember, it is important to scale your data before using KNN because this algorithm is distance-based. Robust scaler was used since outliers had not been dealt with yet."
   ]
  },
  {
   "cell_type": "code",
   "execution_count": null,
   "metadata": {
    "execution": {
     "iopub.execute_input": "2021-10-04T15:52:34.421144Z",
     "iopub.status.busy": "2021-10-04T15:52:34.420414Z",
     "iopub.status.idle": "2021-10-04T15:52:34.446294Z",
     "shell.execute_reply": "2021-10-04T15:52:34.445098Z",
     "shell.execute_reply.started": "2021-10-04T15:52:34.421105Z"
    }
   },
   "outputs": [],
   "source": [
    "knn_vars_train_cont = df_train[cont_vars].copy()\n",
    "\n",
    "Scaler = RobustScaler()\n",
    "\n",
    "knn_vars_train_cont = pd.DataFrame(Scaler.fit_transform(knn_vars_train_cont), \n",
    "                                   columns = [\"col\" + str(i) for i in range(0, 15)])\n",
    "\n",
    "train_imp_cont = KNNImputer(n_neighbors = 5, weights = 'uniform', metric = 'nan_euclidean')"
   ]
  },
  {
   "cell_type": "markdown",
   "metadata": {},
   "source": [
    "Also, don't forget to inverse transform your data."
   ]
  },
  {
   "cell_type": "code",
   "execution_count": null,
   "metadata": {
    "execution": {
     "iopub.execute_input": "2021-10-04T15:52:34.449824Z",
     "iopub.status.busy": "2021-10-04T15:52:34.449488Z",
     "iopub.status.idle": "2021-10-04T15:52:34.505251Z",
     "shell.execute_reply": "2021-10-04T15:52:34.50384Z",
     "shell.execute_reply.started": "2021-10-04T15:52:34.449789Z"
    }
   },
   "outputs": [],
   "source": [
    "train_imp_cont_results = train_imp_cont.fit_transform(knn_vars_train_cont)\n",
    "\n",
    "train_imp_cont_results = pd.DataFrame(Scaler.inverse_transform(train_imp_cont_results), \n",
    "                                      columns = [\"col\" + str(i) for i in range(0, 15)])"
   ]
  },
  {
   "cell_type": "code",
   "execution_count": null,
   "metadata": {
    "execution": {
     "iopub.execute_input": "2021-10-04T15:52:34.508112Z",
     "iopub.status.busy": "2021-10-04T15:52:34.507326Z",
     "iopub.status.idle": "2021-10-04T15:52:34.517682Z",
     "shell.execute_reply": "2021-10-04T15:52:34.516042Z",
     "shell.execute_reply.started": "2021-10-04T15:52:34.508058Z"
    }
   },
   "outputs": [],
   "source": [
    "df_train['LotFrontage'] = train_imp_cont_results['col0']\n",
    "df_train['MasVnrArea'] = train_imp_cont_results['col2'].astype('float64')"
   ]
  },
  {
   "cell_type": "markdown",
   "metadata": {},
   "source": [
    "### 2.2 Other variables (few missing values)"
   ]
  },
  {
   "cell_type": "code",
   "execution_count": null,
   "metadata": {
    "execution": {
     "iopub.execute_input": "2021-10-04T15:52:34.520337Z",
     "iopub.status.busy": "2021-10-04T15:52:34.519643Z",
     "iopub.status.idle": "2021-10-04T15:52:34.538986Z",
     "shell.execute_reply": "2021-10-04T15:52:34.537338Z",
     "shell.execute_reply.started": "2021-10-04T15:52:34.520278Z"
    }
   },
   "outputs": [],
   "source": [
    "for column in ['MasVnrType', 'Electrical']:\n",
    "    \n",
    "    df_train.loc[df_train[column].isnull(), column] = df_train[column].mode()[0]"
   ]
  },
  {
   "cell_type": "markdown",
   "metadata": {},
   "source": [
    "### 2.3 \"GarageYrBlt\""
   ]
  },
  {
   "cell_type": "code",
   "execution_count": null,
   "metadata": {
    "execution": {
     "iopub.execute_input": "2021-10-04T15:52:34.542384Z",
     "iopub.status.busy": "2021-10-04T15:52:34.541074Z",
     "iopub.status.idle": "2021-10-04T15:52:34.548711Z",
     "shell.execute_reply": "2021-10-04T15:52:34.547564Z",
     "shell.execute_reply.started": "2021-10-04T15:52:34.542325Z"
    }
   },
   "outputs": [],
   "source": [
    "from sklearn.preprocessing import LabelEncoder"
   ]
  },
  {
   "cell_type": "markdown",
   "metadata": {},
   "source": [
    "Label encoder was used to transform categorical data before feeding it to KNN."
   ]
  },
  {
   "cell_type": "code",
   "execution_count": null,
   "metadata": {
    "execution": {
     "iopub.execute_input": "2021-10-04T15:52:34.551434Z",
     "iopub.status.busy": "2021-10-04T15:52:34.550526Z",
     "iopub.status.idle": "2021-10-04T15:52:34.573334Z",
     "shell.execute_reply": "2021-10-04T15:52:34.572248Z",
     "shell.execute_reply.started": "2021-10-04T15:52:34.55138Z"
    }
   },
   "outputs": [],
   "source": [
    "knn_vars_train_cat = df_train.drop(cont_vars, axis = 1)\n",
    "knn_vars_train_cat = knn_vars_train_cat.drop('SalePrice', axis = 1)\n",
    "\n",
    "obj_vars = knn_vars_train_cat.select_dtypes(include = ['object', 'category']).columns"
   ]
  },
  {
   "cell_type": "code",
   "execution_count": null,
   "metadata": {
    "execution": {
     "iopub.execute_input": "2021-10-04T15:52:34.575635Z",
     "iopub.status.busy": "2021-10-04T15:52:34.5749Z",
     "iopub.status.idle": "2021-10-04T15:52:34.637363Z",
     "shell.execute_reply": "2021-10-04T15:52:34.636228Z",
     "shell.execute_reply.started": "2021-10-04T15:52:34.575582Z"
    }
   },
   "outputs": [],
   "source": [
    "for column in obj_vars:\n",
    "    \n",
    "    knn_vars_train_cat[column] = LabelEncoder().fit_transform(knn_vars_train_cat[column])"
   ]
  },
  {
   "cell_type": "code",
   "execution_count": null,
   "metadata": {
    "execution": {
     "iopub.execute_input": "2021-10-04T15:52:34.639851Z",
     "iopub.status.busy": "2021-10-04T15:52:34.639586Z",
     "iopub.status.idle": "2021-10-04T15:52:34.686953Z",
     "shell.execute_reply": "2021-10-04T15:52:34.685595Z",
     "shell.execute_reply.started": "2021-10-04T15:52:34.639822Z"
    }
   },
   "outputs": [],
   "source": [
    "train_imp_cat = KNNImputer(n_neighbors = 5, weights = 'uniform', metric = 'nan_euclidean')\n",
    "\n",
    "train_imp_cat_results = train_imp_cat.fit_transform(knn_vars_train_cat)\n",
    "\n",
    "train_imp_cat_results = pd.DataFrame(train_imp_cat_results, \n",
    "                                     columns = [\"col\" + str(i) for i in range(0, 64)])"
   ]
  },
  {
   "cell_type": "code",
   "execution_count": null,
   "metadata": {
    "execution": {
     "iopub.execute_input": "2021-10-04T15:52:35.09965Z",
     "iopub.status.busy": "2021-10-04T15:52:35.098746Z",
     "iopub.status.idle": "2021-10-04T15:52:35.106938Z",
     "shell.execute_reply": "2021-10-04T15:52:35.105746Z",
     "shell.execute_reply.started": "2021-10-04T15:52:35.099604Z"
    }
   },
   "outputs": [],
   "source": [
    "df_train['GarageYrBlt'] = train_imp_cat_results['col48']\n",
    "df_train['GarageYrBlt'] = df_train['GarageYrBlt'].astype('int64')"
   ]
  },
  {
   "cell_type": "markdown",
   "metadata": {},
   "source": [
    "## 3. Imputing NaN values. Test set <a class=\"anchor\" id = \"II_3\"></a>"
   ]
  },
  {
   "cell_type": "markdown",
   "metadata": {},
   "source": [
    "### 3.1 \"LotFrontage\""
   ]
  },
  {
   "cell_type": "markdown",
   "metadata": {},
   "source": [
    "The process was exactly the same for the test set."
   ]
  },
  {
   "cell_type": "code",
   "execution_count": null,
   "metadata": {
    "execution": {
     "iopub.execute_input": "2021-10-04T15:52:35.221686Z",
     "iopub.status.busy": "2021-10-04T15:52:35.220997Z",
     "iopub.status.idle": "2021-10-04T15:52:35.236433Z",
     "shell.execute_reply": "2021-10-04T15:52:35.235151Z",
     "shell.execute_reply.started": "2021-10-04T15:52:35.221639Z"
    }
   },
   "outputs": [],
   "source": [
    "knn_vars_test_cont = df_test[cont_vars].copy()\n",
    "\n",
    "Scaler = StandardScaler()\n",
    "\n",
    "knn_vars_test_cont = pd.DataFrame(Scaler.fit_transform(knn_vars_test_cont), \n",
    "                                  columns = [\"col\" + str(i) for i in range(0, 15)])\n",
    "\n",
    "test_imp_cont = KNNImputer(n_neighbors = 5, weights = 'uniform', metric = 'nan_euclidean')"
   ]
  },
  {
   "cell_type": "code",
   "execution_count": null,
   "metadata": {
    "execution": {
     "iopub.execute_input": "2021-10-04T15:52:35.271223Z",
     "iopub.status.busy": "2021-10-04T15:52:35.270272Z",
     "iopub.status.idle": "2021-10-04T15:52:35.330958Z",
     "shell.execute_reply": "2021-10-04T15:52:35.329795Z",
     "shell.execute_reply.started": "2021-10-04T15:52:35.271181Z"
    }
   },
   "outputs": [],
   "source": [
    "test_imp_cont_results = test_imp_cont.fit_transform(knn_vars_test_cont)\n",
    "\n",
    "test_imp_cont_results = pd.DataFrame(Scaler.inverse_transform(test_imp_cont_results), \n",
    "                                     columns = [\"col\" + str(i) for i in range(0, 15)])"
   ]
  },
  {
   "cell_type": "code",
   "execution_count": null,
   "metadata": {
    "execution": {
     "iopub.execute_input": "2021-10-04T15:52:35.334244Z",
     "iopub.status.busy": "2021-10-04T15:52:35.333403Z",
     "iopub.status.idle": "2021-10-04T15:52:35.341736Z",
     "shell.execute_reply": "2021-10-04T15:52:35.34107Z",
     "shell.execute_reply.started": "2021-10-04T15:52:35.334185Z"
    }
   },
   "outputs": [],
   "source": [
    "df_test['LotFrontage'] = test_imp_cont_results['col0']"
   ]
  },
  {
   "cell_type": "markdown",
   "metadata": {},
   "source": [
    "### 3.2 Other variables (few missing values)"
   ]
  },
  {
   "cell_type": "code",
   "execution_count": null,
   "metadata": {
    "execution": {
     "iopub.execute_input": "2021-10-04T15:52:35.380437Z",
     "iopub.status.busy": "2021-10-04T15:52:35.379912Z",
     "iopub.status.idle": "2021-10-04T15:52:35.524896Z",
     "shell.execute_reply": "2021-10-04T15:52:35.524191Z",
     "shell.execute_reply.started": "2021-10-04T15:52:35.380388Z"
    }
   },
   "outputs": [],
   "source": [
    "for column in df_test.columns: \n",
    "    \n",
    "    if ((df_test[column].isnull().sum() <= 60) & (df_test[column].isnull().sum() > 0) & \n",
    "        ((df_test[column].dtypes == 'O') | (df_test[column].dtypes == 'float64')) & \n",
    "        (df_test[column].nunique() < 20)):\n",
    "        \n",
    "        df_test.loc[df_test[column].isnull(), column] = df_test[column].mode()[0]\n",
    "        \n",
    "    elif ((df_test[column].isnull().sum() <= 60) & (df_test[column].isnull().sum() > 0) & \n",
    "          (df_test[column].dtypes == 'float64') & (df_test[column].nunique() > 100)):\n",
    "        \n",
    "        df_test.loc[df_test[column].isnull(), column] = df_test[column].mean()\n",
    "        \n",
    "    else: pass"
   ]
  },
  {
   "cell_type": "markdown",
   "metadata": {},
   "source": [
    "### 3.3 \"GarageYrBlt\""
   ]
  },
  {
   "cell_type": "code",
   "execution_count": null,
   "metadata": {
    "execution": {
     "iopub.execute_input": "2021-10-04T15:52:35.526957Z",
     "iopub.status.busy": "2021-10-04T15:52:35.526488Z",
     "iopub.status.idle": "2021-10-04T15:52:35.533289Z",
     "shell.execute_reply": "2021-10-04T15:52:35.532509Z",
     "shell.execute_reply.started": "2021-10-04T15:52:35.526909Z"
    }
   },
   "outputs": [],
   "source": [
    "knn_vars_test_cat = df_test.drop(cont_vars, axis = 1)"
   ]
  },
  {
   "cell_type": "code",
   "execution_count": null,
   "metadata": {
    "execution": {
     "iopub.execute_input": "2021-10-04T15:52:35.534772Z",
     "iopub.status.busy": "2021-10-04T15:52:35.534484Z",
     "iopub.status.idle": "2021-10-04T15:52:35.606122Z",
     "shell.execute_reply": "2021-10-04T15:52:35.605143Z",
     "shell.execute_reply.started": "2021-10-04T15:52:35.534741Z"
    }
   },
   "outputs": [],
   "source": [
    "for column in knn_vars_test_cat:\n",
    "    \n",
    "    knn_vars_test_cat[column] = LabelEncoder().fit_transform(knn_vars_test_cat[column])"
   ]
  },
  {
   "cell_type": "code",
   "execution_count": null,
   "metadata": {
    "execution": {
     "iopub.execute_input": "2021-10-04T15:52:35.978918Z",
     "iopub.status.busy": "2021-10-04T15:52:35.978542Z",
     "iopub.status.idle": "2021-10-04T15:52:35.995766Z",
     "shell.execute_reply": "2021-10-04T15:52:35.994782Z",
     "shell.execute_reply.started": "2021-10-04T15:52:35.97888Z"
    }
   },
   "outputs": [],
   "source": [
    "test_imp_cat = KNNImputer(n_neighbors = 5, weights = 'uniform', metric = 'nan_euclidean')\n",
    "\n",
    "test_imp_cat_results = test_imp_cat.fit_transform(knn_vars_test_cat)\n",
    "\n",
    "test_imp_cat_results = pd.DataFrame(test_imp_cat_results, \n",
    "                                    columns = [\"col\" + str(i) for i in range(0, 64)])"
   ]
  },
  {
   "cell_type": "code",
   "execution_count": null,
   "metadata": {
    "execution": {
     "iopub.execute_input": "2021-10-04T15:52:36.574108Z",
     "iopub.status.busy": "2021-10-04T15:52:36.572876Z",
     "iopub.status.idle": "2021-10-04T15:52:36.580445Z",
     "shell.execute_reply": "2021-10-04T15:52:36.579525Z",
     "shell.execute_reply.started": "2021-10-04T15:52:36.574068Z"
    }
   },
   "outputs": [],
   "source": [
    "df_test['GarageYrBlt'] = test_imp_cat_results['col48']\n",
    "df_test['GarageYrBlt'] = df_test['GarageYrBlt'].astype('int64')"
   ]
  },
  {
   "cell_type": "markdown",
   "metadata": {},
   "source": [
    "Finally, we can check the number of NaN values left:"
   ]
  },
  {
   "cell_type": "code",
   "execution_count": null,
   "metadata": {
    "execution": {
     "iopub.execute_input": "2021-10-04T15:52:36.641257Z",
     "iopub.status.busy": "2021-10-04T15:52:36.640512Z",
     "iopub.status.idle": "2021-10-04T15:52:36.666485Z",
     "shell.execute_reply": "2021-10-04T15:52:36.665882Z",
     "shell.execute_reply.started": "2021-10-04T15:52:36.641216Z"
    }
   },
   "outputs": [],
   "source": [
    "print(df_train.isna().sum().any(), df_test.isna().sum().any(), sep = '\\n')"
   ]
  },
  {
   "cell_type": "markdown",
   "metadata": {},
   "source": [
    "<h1><center> III. EDA </center></h1> <a class=\"anchor\" id = \"III\"></a>"
   ]
  },
  {
   "cell_type": "markdown",
   "metadata": {},
   "source": [
    "For starters, we should separate variables by their type in order to figure out what columns are categorical and what are numeric, which is crucial for further analysis."
   ]
  },
  {
   "cell_type": "code",
   "execution_count": null,
   "metadata": {
    "execution": {
     "iopub.execute_input": "2021-10-04T15:52:37.362647Z",
     "iopub.status.busy": "2021-10-04T15:52:37.361871Z",
     "iopub.status.idle": "2021-10-04T15:52:37.379061Z",
     "shell.execute_reply": "2021-10-04T15:52:37.37815Z",
     "shell.execute_reply.started": "2021-10-04T15:52:37.362609Z"
    }
   },
   "outputs": [],
   "source": [
    "train_obj = df_train.select_dtypes(include = ['object', 'category']).columns\n",
    "\n",
    "train_int_float = df_train.select_dtypes(include = ['int64', 'float64'])\n",
    "col_order = train_int_float.nunique().sort_values(ascending = False).index.tolist()\n",
    "train_int_float = train_int_float[col_order].columns"
   ]
  },
  {
   "cell_type": "markdown",
   "metadata": {},
   "source": [
    "## 1. Visualising potential numeric variables <a class=\"anchor\" id = \"III_1\"></a>"
   ]
  },
  {
   "cell_type": "markdown",
   "metadata": {},
   "source": [
    "<div style = \"color: #000000;\n",
    "             display: fill;\n",
    "             padding: 8px;\n",
    "             border-radius: 5px;\n",
    "             border-style: solid;\n",
    "             border-color: #a63700;\n",
    "             background-color: rgba(235, 125, 66, 0.3)\">\n",
    "    \n",
    "<span style = \"font-size: 20px; font-weight: bold\">Note:</span> \n",
    "<span style=\"font-size: 15px\">If you want to learn more about efficiently creating neat visualisations, please refer to this <a href=\"https://www.kaggle.com/suprematism/house-prices-advanced-visualisation\">notebook</a>.</span>\n",
    "</div>"
   ]
  },
  {
   "cell_type": "code",
   "execution_count": null,
   "metadata": {
    "_kg_hide-input": true,
    "execution": {
     "iopub.execute_input": "2021-10-04T16:11:50.678948Z",
     "iopub.status.busy": "2021-10-04T16:11:50.678655Z",
     "iopub.status.idle": "2021-10-04T16:12:02.154623Z",
     "shell.execute_reply": "2021-10-04T16:12:02.153197Z",
     "shell.execute_reply.started": "2021-10-04T16:11:50.67892Z"
    }
   },
   "outputs": [],
   "source": [
    "with plt.rc_context(rc = {'figure.dpi': 500, 'axes.labelsize': 7, \n",
    "                          'xtick.labelsize': 5, 'ytick.labelsize': 5}): \n",
    "\n",
    "    fig, ax = plt.subplots(5, 5, figsize = (8.5, 10), sharey = True)\n",
    "\n",
    "    for idx, (column, axes) in list(enumerate(zip(train_int_float[0:22], ax.flatten()))):\n",
    "    \n",
    "        sns.scatterplot(ax = axes, x = df_train[column], \n",
    "                        y = np.log(df_train['SalePrice']), \n",
    "                        hue =  np.log(df_train['SalePrice']), \n",
    "                        palette = 'viridis', alpha = 0.7, s = 8)\n",
    "    \n",
    "        axes.legend([], [], frameon = False)\n",
    "    \n",
    "    else:\n",
    "    \n",
    "        [axes.set_visible(False) for axes in ax.flatten()[idx + 1:]]\n",
    "\n",
    "    plt.tight_layout()\n",
    "    plt.show()"
   ]
  },
  {
   "cell_type": "code",
   "execution_count": null,
   "metadata": {
    "_kg_hide-input": true,
    "execution": {
     "iopub.execute_input": "2021-10-04T16:12:19.102717Z",
     "iopub.status.busy": "2021-10-04T16:12:19.101845Z",
     "iopub.status.idle": "2021-10-04T16:12:26.922472Z",
     "shell.execute_reply": "2021-10-04T16:12:26.921278Z",
     "shell.execute_reply.started": "2021-10-04T16:12:19.102678Z"
    }
   },
   "outputs": [],
   "source": [
    "with plt.rc_context(rc = {'figure.dpi': 500, 'axes.labelsize': 7, \n",
    "                          'xtick.labelsize': 5, 'ytick.labelsize': 5}): \n",
    "\n",
    "    fig, ax = plt.subplots(5, 4, figsize = (8.5, 9), sharey = True)\n",
    "\n",
    "    for idx, (column, axes) in list(enumerate(zip(train_int_float[22:], ax.flatten()))):\n",
    "    \n",
    "        sns.scatterplot(ax = axes, x = df_train[column], \n",
    "                        y = np.log(df_train['SalePrice']), \n",
    "                        hue =  np.log(df_train['SalePrice']), \n",
    "                        palette = 'viridis', alpha = 0.7, s = 8)\n",
    "    \n",
    "        axes.legend([], [], frameon = False)\n",
    "    \n",
    "    else:\n",
    "    \n",
    "        [axes.set_visible(False) for axes in ax.flatten()[idx + 1:]]\n",
    "    \n",
    "    plt.tight_layout()\n",
    "    plt.show()"
   ]
  },
  {
   "cell_type": "markdown",
   "metadata": {},
   "source": [
    "Based on graphs like the ones above, we can easily determine what variables are actually continous. In addition, I kept imbalanced predictors away from balanced ones."
   ]
  },
  {
   "cell_type": "code",
   "execution_count": null,
   "metadata": {
    "execution": {
     "iopub.execute_input": "2021-10-04T16:12:26.924826Z",
     "iopub.status.busy": "2021-10-04T16:12:26.924504Z",
     "iopub.status.idle": "2021-10-04T16:12:26.932094Z",
     "shell.execute_reply": "2021-10-04T16:12:26.930996Z",
     "shell.execute_reply.started": "2021-10-04T16:12:26.924785Z"
    }
   },
   "outputs": [],
   "source": [
    "train_cont_balanced = ['LotFrontage', 'LotArea', 'MasVnrArea', 'BsmtFinSF1', \n",
    "                       'BsmtFinSF2', 'BsmtUnfSF', 'TotalBsmtSF', '1stFlrSF', \n",
    "                       '2ndFlrSF', 'GrLivArea', 'GarageArea', 'WoodDeckSF', \n",
    "                       'OpenPorchSF', 'EnclosedPorch', 'ScreenPorch']\n",
    "\n",
    "train_cont_unbalanced = ['LowQualFinSF', '3SsnPorch' , 'PoolArea' , 'MiscVal']"
   ]
  },
  {
   "cell_type": "markdown",
   "metadata": {},
   "source": [
    "## 2. Visualising categorical variables <a class=\"anchor\" id = \"III_2\"></a>"
   ]
  },
  {
   "cell_type": "markdown",
   "metadata": {},
   "source": [
    "Let's get only categorical features:"
   ]
  },
  {
   "cell_type": "code",
   "execution_count": null,
   "metadata": {
    "execution": {
     "iopub.execute_input": "2021-10-04T16:12:26.933881Z",
     "iopub.status.busy": "2021-10-04T16:12:26.933563Z",
     "iopub.status.idle": "2021-10-04T16:12:26.948042Z",
     "shell.execute_reply": "2021-10-04T16:12:26.946436Z",
     "shell.execute_reply.started": "2021-10-04T16:12:26.933847Z"
    }
   },
   "outputs": [],
   "source": [
    "train_cat = df_train.drop(train_cont_balanced, axis = 1).columns.tolist()\n",
    "train_cat.remove('SalePrice')"
   ]
  },
  {
   "cell_type": "markdown",
   "metadata": {},
   "source": [
    "### 2.1 High cardinality features"
   ]
  },
  {
   "cell_type": "markdown",
   "metadata": {},
   "source": [
    "It is important to visualise variables with lots of categories, as you can observe whether they have some kind of relationship with the target. If yes, you should not drop them but encode properly."
   ]
  },
  {
   "cell_type": "code",
   "execution_count": null,
   "metadata": {
    "execution": {
     "iopub.execute_input": "2021-10-04T16:12:29.882958Z",
     "iopub.status.busy": "2021-10-04T16:12:29.882611Z",
     "iopub.status.idle": "2021-10-04T16:12:29.913106Z",
     "shell.execute_reply": "2021-10-04T16:12:29.911941Z",
     "shell.execute_reply.started": "2021-10-04T16:12:29.882928Z"
    }
   },
   "outputs": [],
   "source": [
    "df_train[train_cat].loc[:, df_train.nunique() > 25].nunique().sort_values(ascending = False)"
   ]
  },
  {
   "cell_type": "code",
   "execution_count": null,
   "metadata": {
    "execution": {
     "iopub.execute_input": "2021-10-04T16:12:30.043734Z",
     "iopub.status.busy": "2021-10-04T16:12:30.043394Z",
     "iopub.status.idle": "2021-10-04T16:12:30.067944Z",
     "shell.execute_reply": "2021-10-04T16:12:30.067018Z",
     "shell.execute_reply.started": "2021-10-04T16:12:30.043704Z"
    }
   },
   "outputs": [],
   "source": [
    "train_high_cat = df_train[train_cat].loc[:, df_train.nunique() > 25].copy()"
   ]
  },
  {
   "cell_type": "code",
   "execution_count": null,
   "metadata": {
    "_kg_hide-input": true,
    "execution": {
     "iopub.execute_input": "2021-10-04T16:12:31.346315Z",
     "iopub.status.busy": "2021-10-04T16:12:31.345796Z",
     "iopub.status.idle": "2021-10-04T16:12:31.354939Z",
     "shell.execute_reply": "2021-10-04T16:12:31.354136Z",
     "shell.execute_reply.started": "2021-10-04T16:12:31.346281Z"
    }
   },
   "outputs": [],
   "source": [
    "for column in train_high_cat.columns:\n",
    "    \n",
    "    train_high_cat[column] = train_high_cat[column].astype('category')"
   ]
  },
  {
   "cell_type": "code",
   "execution_count": null,
   "metadata": {
    "_kg_hide-input": true,
    "execution": {
     "iopub.execute_input": "2021-10-04T16:13:53.173931Z",
     "iopub.status.busy": "2021-10-04T16:13:53.173501Z",
     "iopub.status.idle": "2021-10-04T16:14:05.217647Z",
     "shell.execute_reply": "2021-10-04T16:14:05.215917Z",
     "shell.execute_reply.started": "2021-10-04T16:13:53.173896Z"
    }
   },
   "outputs": [],
   "source": [
    "with plt.rc_context(rc = {'figure.dpi': 450, 'axes.labelsize': 5, \n",
    "                          'xtick.labelsize': 4, 'ytick.labelsize': 4}): \n",
    "\n",
    "    fig, ax = plt.subplots(1, 3, figsize = (6, 7.5))\n",
    "\n",
    "    for idx, (column, axes) in list(enumerate(zip(train_high_cat.columns, ax.flatten()))): \n",
    "    \n",
    "        sns.stripplot(ax = axes, x = np.log(df_train['SalePrice']), \n",
    "                      y = train_high_cat[column], \n",
    "                      palette = 'viridis', alpha = 0.95, size = 1.5)\n",
    "\n",
    "        sns.boxplot(ax = axes, x = np.log(df_train['SalePrice']), \n",
    "                    y = train_high_cat[column],\n",
    "                    showmeans = True, meanline = True, zorder = 10,\n",
    "                    meanprops = {'color': 'r', 'linestyle': '-', 'lw': 0.8},\n",
    "                    medianprops = {'visible': False},\n",
    "                    whiskerprops = {'visible': False},\n",
    "                    showfliers = False, showbox = False, showcaps = False)\n",
    "        \n",
    "        sns.pointplot(ax = axes, x = np.log(df_train['SalePrice']), \n",
    "                      y = train_high_cat[column],\n",
    "                      ci = None, color = 'r', scale = 0.15)\n",
    "    \n",
    "    else: \n",
    "    \n",
    "        [axes.set_visible(False) for axes in ax.flatten()[idx + 1:]]\n",
    "    \n",
    "    plt.tight_layout()\n",
    "    plt.show()"
   ]
  },
  {
   "cell_type": "markdown",
   "metadata": {},
   "source": [
    "### 2.2 Variables with manageable cardinality"
   ]
  },
  {
   "cell_type": "markdown",
   "metadata": {},
   "source": [
    "For the sake of experimenting with <span style = \"color: #E85E40\"> matplotlib </span> and <span style = \"color: #E85E40\"> seaborn </span>, I plotted some categorical features. In my judgment, using stripplots with ordered by the target mean categories can be quite insightful. First and foremost, you can clearly see how many observations each category contains, which is vital if you want to isolate imbalanced features. On top of that, after ordering every category, a relationship (if present) of an independent variable with the target becomes evident."
   ]
  },
  {
   "cell_type": "code",
   "execution_count": null,
   "metadata": {
    "execution": {
     "iopub.execute_input": "2021-10-04T16:14:21.732804Z",
     "iopub.status.busy": "2021-10-04T16:14:21.732109Z",
     "iopub.status.idle": "2021-10-04T16:14:21.761052Z",
     "shell.execute_reply": "2021-10-04T16:14:21.76011Z",
     "shell.execute_reply.started": "2021-10-04T16:14:21.732764Z"
    }
   },
   "outputs": [],
   "source": [
    "train_norm_cat = df_train[train_cat].loc[:, df_train.nunique() <= 25].columns.tolist()"
   ]
  },
  {
   "cell_type": "code",
   "execution_count": null,
   "metadata": {
    "_kg_hide-input": true,
    "execution": {
     "iopub.execute_input": "2021-10-04T16:19:37.942816Z",
     "iopub.status.busy": "2021-10-04T16:19:37.942454Z",
     "iopub.status.idle": "2021-10-04T16:19:46.911695Z",
     "shell.execute_reply": "2021-10-04T16:19:46.910121Z",
     "shell.execute_reply.started": "2021-10-04T16:19:37.942784Z"
    }
   },
   "outputs": [],
   "source": [
    "with plt.rc_context(rc = {'figure.dpi': 500, 'axes.labelsize': 7, \n",
    "                          'xtick.labelsize': 5.5, 'ytick.labelsize': 5.5}): \n",
    "\n",
    "    fig, ax = plt.subplots(5, 3, figsize = (8, 13), sharey = True)\n",
    "\n",
    "    for idx, (column, axes) in list(enumerate(zip(train_norm_cat[: 15], ax.flatten()))):\n",
    "    \n",
    "        order = df_train.groupby(column)['SalePrice'].mean().sort_values(ascending = True).index\n",
    "    \n",
    "        sns.violinplot(ax = axes, x = df_train[column], \n",
    "                       y = np.log(df_train['SalePrice']),\n",
    "                       order = order, scale = 'width',\n",
    "                       linewidth = 0.3, palette = 'viridis',\n",
    "                       saturation = 0.5, inner = None)\n",
    "    \n",
    "        plt.setp(axes.collections, alpha = 0.3)\n",
    "    \n",
    "        sns.stripplot(ax = axes, x = df_train[column], \n",
    "                      y = np.log(df_train['SalePrice']),\n",
    "                      palette = 'viridis', s = 1.3, alpha = 0.9,\n",
    "                      order = order)\n",
    "    \n",
    "        sns.boxplot(ax = axes, x = df_train[column], order = order,\n",
    "                    y = np.log(df_train['SalePrice']),\n",
    "                    showmeans = True, meanline = True, zorder = 10,\n",
    "                    meanprops = {'color': 'r', 'linestyle': '--', 'lw': 0.6},\n",
    "                    medianprops = {'visible': False},\n",
    "                    whiskerprops = {'visible': False},\n",
    "                    showfliers = False, showbox = False, showcaps = False)\n",
    "        \n",
    "        if df_train[column].nunique() > 5: \n",
    "        \n",
    "            plt.setp(axes.get_xticklabels(), rotation = 90)\n",
    "    \n",
    "    else:\n",
    "    \n",
    "        [axes.set_visible(False) for axes in ax.flatten()[idx + 1:]]\n",
    "\n",
    "    plt.tight_layout()\n",
    "    plt.show()"
   ]
  },
  {
   "cell_type": "markdown",
   "metadata": {},
   "source": [
    "<h1><center> IV. Feature engineering </center></h1> <a class=\"anchor\" id = \"IV\"></a>"
   ]
  },
  {
   "cell_type": "markdown",
   "metadata": {},
   "source": [
    "## 1. Dealing with outliers <a class=\"anchor\" id = \"IV_1\"></a>"
   ]
  },
  {
   "cell_type": "markdown",
   "metadata": {},
   "source": [
    "How did I determine what observations were outliers? I simply run a Lasso model and collected the largest residuals. I didn't do it in this segment because all columns needed to be properly encoded (remember actual analysis is not linear while writing a notebook is)."
   ]
  },
  {
   "cell_type": "code",
   "execution_count": null,
   "metadata": {
    "execution": {
     "iopub.execute_input": "2021-10-04T16:20:03.907296Z",
     "iopub.status.busy": "2021-10-04T16:20:03.906254Z",
     "iopub.status.idle": "2021-10-04T16:20:03.913085Z",
     "shell.execute_reply": "2021-10-04T16:20:03.911998Z",
     "shell.execute_reply.started": "2021-10-04T16:20:03.907232Z"
    }
   },
   "outputs": [],
   "source": [
    "indx_final = [30, 462, 495, 523, 588, 632, 968, 1298, 1324]"
   ]
  },
  {
   "cell_type": "code",
   "execution_count": null,
   "metadata": {
    "execution": {
     "iopub.execute_input": "2021-10-04T16:20:05.31647Z",
     "iopub.status.busy": "2021-10-04T16:20:05.315921Z",
     "iopub.status.idle": "2021-10-04T16:20:05.327035Z",
     "shell.execute_reply": "2021-10-04T16:20:05.325699Z",
     "shell.execute_reply.started": "2021-10-04T16:20:05.316428Z"
    }
   },
   "outputs": [],
   "source": [
    "df_train = df_train.drop(indx_final, axis = 0).reset_index(drop = True)"
   ]
  },
  {
   "cell_type": "markdown",
   "metadata": {},
   "source": [
    "Here is an axample of how you can do it yourself:"
   ]
  },
  {
   "cell_type": "code",
   "execution_count": null,
   "metadata": {
    "execution": {
     "iopub.execute_input": "2021-10-04T16:20:05.629515Z",
     "iopub.status.busy": "2021-10-04T16:20:05.629168Z",
     "iopub.status.idle": "2021-10-04T16:20:05.634322Z",
     "shell.execute_reply": "2021-10-04T16:20:05.633236Z",
     "shell.execute_reply.started": "2021-10-04T16:20:05.629484Z"
    }
   },
   "outputs": [],
   "source": [
    "##### Training a model #####\n",
    "\n",
    "# Lasso_outliers = linear_model.Lasso(alpha = 0.0005)\n",
    "\n",
    "# Lasso_fit = Lasso_outliers.fit(X_train, y)\n",
    "\n",
    "##### Getting outliers #####\n",
    "\n",
    "# rows_to_drop = (Lasso_fit.predict(X_train) - df_train['SalePrice'])**2\n",
    "# rows_to_drop[rows_to_drop > 0.2].index"
   ]
  },
  {
   "cell_type": "markdown",
   "metadata": {},
   "source": [
    "Before setting a threshold, try plotting residuals. It can help a lot."
   ]
  },
  {
   "cell_type": "markdown",
   "metadata": {},
   "source": [
    "## 2. Adding some new variables <a class=\"anchor\" id = \"IV_2\"></a>"
   ]
  },
  {
   "cell_type": "markdown",
   "metadata": {},
   "source": [
    "I added some variables that made sense to me. For instance, I calculated the total number of rooms (kitchens, bathrooms and other rooms)."
   ]
  },
  {
   "cell_type": "code",
   "execution_count": null,
   "metadata": {
    "execution": {
     "iopub.execute_input": "2021-10-04T16:20:08.132997Z",
     "iopub.status.busy": "2021-10-04T16:20:08.132576Z",
     "iopub.status.idle": "2021-10-04T16:20:08.148087Z",
     "shell.execute_reply": "2021-10-04T16:20:08.146846Z",
     "shell.execute_reply.started": "2021-10-04T16:20:08.132943Z"
    }
   },
   "outputs": [],
   "source": [
    "df_train['TotalPorch'] = (df_train['ScreenPorch'] + df_train['EnclosedPorch'] + \n",
    "                          df_train['3SsnPorch'] + df_train['ScreenPorch'])\n",
    "\n",
    "df_train['Rooms_kitchens'] = (df_train['TotRmsAbvGrd'] + df_train['BsmtFullBath'] + \n",
    "                              df_train['BsmtHalfBath'] + df_train['FullBath'] + \n",
    "                              df_train['HalfBath'])\n",
    "\n",
    "df_train['Sqr_feet_per_room'] = ((df_train['1stFlrSF'] + \n",
    "                                  df_train['2ndFlrSF']) / df_train['TotRmsAbvGrd'])"
   ]
  },
  {
   "cell_type": "code",
   "execution_count": null,
   "metadata": {
    "execution": {
     "iopub.execute_input": "2021-10-04T16:20:08.294315Z",
     "iopub.status.busy": "2021-10-04T16:20:08.293912Z",
     "iopub.status.idle": "2021-10-04T16:20:08.300333Z",
     "shell.execute_reply": "2021-10-04T16:20:08.299133Z",
     "shell.execute_reply.started": "2021-10-04T16:20:08.294278Z"
    }
   },
   "outputs": [],
   "source": [
    "train_cont_balanced.append('TotalPorch')\n",
    "train_cont_balanced.append('Sqr_feet_per_room')"
   ]
  },
  {
   "cell_type": "code",
   "execution_count": null,
   "metadata": {
    "execution": {
     "iopub.execute_input": "2021-10-04T16:20:09.641343Z",
     "iopub.status.busy": "2021-10-04T16:20:09.640994Z",
     "iopub.status.idle": "2021-10-04T16:20:09.659357Z",
     "shell.execute_reply": "2021-10-04T16:20:09.658059Z",
     "shell.execute_reply.started": "2021-10-04T16:20:09.641311Z"
    }
   },
   "outputs": [],
   "source": [
    "df_test['TotalPorch'] = (df_test['ScreenPorch'] + df_test['EnclosedPorch'] + \n",
    "                         df_test['3SsnPorch'] + df_test['ScreenPorch'])\n",
    "\n",
    "df_test['Rooms_kitchens'] = (df_test['TotRmsAbvGrd'] + df_test['BsmtFullBath'] + \n",
    "                             df_test['BsmtHalfBath'] + df_test['FullBath'] + \n",
    "                             df_test['HalfBath'])\n",
    "\n",
    "df_test['Sqr_feet_per_room'] = ((df_test['1stFlrSF'] + \n",
    "                                 df_test['2ndFlrSF']) / df_test['TotRmsAbvGrd'])"
   ]
  },
  {
   "cell_type": "markdown",
   "metadata": {},
   "source": [
    "## 3. Binning imbalanced features <a class=\"anchor\" id = \"IV_3\"></a>"
   ]
  },
  {
   "cell_type": "markdown",
   "metadata": {},
   "source": [
    "Imbalanced numeric variables were determined at the very beginning."
   ]
  },
  {
   "cell_type": "code",
   "execution_count": null,
   "metadata": {
    "_kg_hide-input": true,
    "execution": {
     "iopub.execute_input": "2021-10-04T16:21:14.518352Z",
     "iopub.status.busy": "2021-10-04T16:21:14.517286Z",
     "iopub.status.idle": "2021-10-04T16:21:16.70164Z",
     "shell.execute_reply": "2021-10-04T16:21:16.700408Z",
     "shell.execute_reply.started": "2021-10-04T16:21:14.518306Z"
    }
   },
   "outputs": [],
   "source": [
    "with plt.rc_context(rc = {'figure.dpi': 500, 'axes.labelsize': 7, \n",
    "                          'xtick.labelsize': 6, 'ytick.labelsize': 6,\n",
    "                          'legend.fontsize': 6, 'legend.title_fontsize': 6}): \n",
    "\n",
    "    fig, ax = plt.subplots(1, 4, figsize = (8, 3), sharey = True)\n",
    "\n",
    "    for idx, (column, axes) in list(enumerate(zip(train_cont_unbalanced, ax.flatten()))):\n",
    "    \n",
    "        sns.scatterplot(ax = axes, x = df_train[column], \n",
    "                        y = np.log(df_train['SalePrice']), \n",
    "                        hue = np.log(df_train['SalePrice']), \n",
    "                        palette = 'viridis', alpha = 0.8, s = 9)\n",
    "\n",
    "    axes_legend = ax.flatten()\n",
    "\n",
    "    axes_legend[0].legend(title = 'SalePrice', loc = 'lower right')\n",
    "    axes_legend[1].legend(title = 'SalePrice', loc = 'lower right')\n",
    "    axes_legend[3].legend(title = 'SalePrice', loc = 'lower right')\n",
    "    \n",
    "    plt.tight_layout()\n",
    "    plt.show()"
   ]
  },
  {
   "cell_type": "code",
   "execution_count": null,
   "metadata": {
    "execution": {
     "iopub.execute_input": "2021-10-04T16:21:30.540127Z",
     "iopub.status.busy": "2021-10-04T16:21:30.539636Z",
     "iopub.status.idle": "2021-10-04T16:21:30.560216Z",
     "shell.execute_reply": "2021-10-04T16:21:30.559033Z",
     "shell.execute_reply.started": "2021-10-04T16:21:30.54008Z"
    }
   },
   "outputs": [],
   "source": [
    "for column in train_cont_unbalanced:\n",
    "    \n",
    "    df_train.loc[(df_train[column] == 0), column] = 'None' \n",
    "    \n",
    "    df_train.loc[(df_train[column] != 0) & (df_train[column] != 'None'), column] = 'Present'"
   ]
  },
  {
   "cell_type": "code",
   "execution_count": null,
   "metadata": {
    "execution": {
     "iopub.execute_input": "2021-10-04T16:21:30.672664Z",
     "iopub.status.busy": "2021-10-04T16:21:30.672364Z",
     "iopub.status.idle": "2021-10-04T16:21:30.690573Z",
     "shell.execute_reply": "2021-10-04T16:21:30.68935Z",
     "shell.execute_reply.started": "2021-10-04T16:21:30.672635Z"
    }
   },
   "outputs": [],
   "source": [
    "for column in train_cont_unbalanced:\n",
    "    \n",
    "    df_test.loc[(df_test[column] == 0), column] = 'None' \n",
    "    \n",
    "    df_test.loc[(df_test[column] != 0) & (df_test[column] != 'None'), column] = 'Present'"
   ]
  },
  {
   "cell_type": "markdown",
   "metadata": {},
   "source": [
    "## 4. Transforming skewed variables <a class=\"anchor\" id = \"IV_4\"></a>"
   ]
  },
  {
   "cell_type": "code",
   "execution_count": null,
   "metadata": {
    "_kg_hide-input": true,
    "execution": {
     "iopub.execute_input": "2021-10-04T16:25:40.796017Z",
     "iopub.status.busy": "2021-10-04T16:25:40.795683Z",
     "iopub.status.idle": "2021-10-04T16:25:46.276792Z",
     "shell.execute_reply": "2021-10-04T16:25:46.275588Z",
     "shell.execute_reply.started": "2021-10-04T16:25:40.795988Z"
    }
   },
   "outputs": [],
   "source": [
    "with plt.rc_context(rc = {'figure.dpi': 500, 'axes.labelsize': 7, \n",
    "                          'xtick.labelsize': 5, 'ytick.labelsize': 5}):\n",
    "    \n",
    "    fig, ax = plt.subplots(5, 4, figsize = (8.5, 9))\n",
    "\n",
    "    for idx, (column, axes) in list(enumerate(zip(train_cont_balanced, ax.flatten()))):\n",
    "    \n",
    "        sns.kdeplot(ax = axes, x = df_train[column], \n",
    "                    fill = True, alpha = 0.2, color = '#006e7a',\n",
    "                    linewidth = 0.8)\n",
    "    \n",
    "    else:\n",
    "    \n",
    "        [axes.set_visible(False) for axes in ax.flatten()[idx + 1:]]\n",
    "    \n",
    "    plt.tight_layout()\n",
    "    plt.show()"
   ]
  },
  {
   "cell_type": "markdown",
   "metadata": {},
   "source": [
    "As far as I can tell, making features look more \"normal\" is not the number one priority, especially if we take into account that we are not doing statistical analysis. We care about how accurate our models are. Thus, I simply used log transformation."
   ]
  },
  {
   "cell_type": "code",
   "execution_count": null,
   "metadata": {
    "execution": {
     "iopub.execute_input": "2021-10-04T16:26:01.041769Z",
     "iopub.status.busy": "2021-10-04T16:26:01.041436Z",
     "iopub.status.idle": "2021-10-04T16:26:01.078194Z",
     "shell.execute_reply": "2021-10-04T16:26:01.076795Z",
     "shell.execute_reply.started": "2021-10-04T16:26:01.04174Z"
    }
   },
   "outputs": [],
   "source": [
    "df_train[train_cont_balanced] = np.log(df_train[train_cont_balanced] + 1)\n",
    "df_test[train_cont_balanced] = np.log(df_test[train_cont_balanced] + 1)"
   ]
  },
  {
   "cell_type": "markdown",
   "metadata": {},
   "source": [
    "## 5. Encoding variables <a class=\"anchor\" id = \"IV_5\"></a>"
   ]
  },
  {
   "cell_type": "markdown",
   "metadata": {},
   "source": [
    "### 5.1 Mean encoding"
   ]
  },
  {
   "cell_type": "markdown",
   "metadata": {},
   "source": [
    "High cardinality features were encoded via mean encoding with cross validation and regularisation, which are a must if you want to prevent overfitting.\n",
    "\n",
    "I used a piece of code from this excellent notebook:\n",
    "\n",
    "https://www.kaggle.com/vprokopev/mean-likelihood-encodings-a-comprehensive-study\n",
    "\n",
    "I can also recommend you two great videos that cover the idea of mean encoding and various regularisation techniques: \n",
    "\n",
    "https://www.coursera.org/lecture/competitive-data-science/concept-of-mean-encoding-b5Gxv\n",
    "\n",
    "https://www.coursera.org/lecture/competitive-data-science/regularization-LGYQ2"
   ]
  },
  {
   "cell_type": "code",
   "execution_count": null,
   "metadata": {},
   "outputs": [],
   "source": [
    "from sklearn.model_selection import KFold"
   ]
  },
  {
   "cell_type": "code",
   "execution_count": null,
   "metadata": {},
   "outputs": [],
   "source": [
    "def mean_encode(train_data, test_data, columns, target_col, alpha = 0, folds = 1):\n",
    "    encoded_cols = []\n",
    "    target_mean_global = train_data[target_col].mean()\n",
    "    for col in columns:\n",
    "        # Getting means for test data\n",
    "        nrows_cat = train_data.groupby(col)[target_col].count()\n",
    "        target_means_cats = train_data.groupby(col)[target_col].mean()\n",
    "        target_means_cats_adj = (target_means_cats*nrows_cat + \n",
    "                                 target_mean_global*alpha)/(nrows_cat+alpha)\n",
    "        # Mapping means to test data\n",
    "        encoded_col_test = test_data[col].map(target_means_cats_adj)\n",
    "        # Getting a train encodings\n",
    "        kfold = KFold(folds, shuffle=True, random_state=1).split(train_data[target_col].values)\n",
    "        parts = []\n",
    "        \n",
    "        for tr_in, val_ind in kfold:\n",
    "            # divide data\n",
    "            df_for_estimation, df_estimated = train_data.iloc[tr_in], train_data.iloc[val_ind]\n",
    "            # getting means on data for estimation (all folds except estimated)\n",
    "            nrows_cat = df_for_estimation.groupby(col)[target_col].count()\n",
    "            target_means_cats = df_for_estimation.groupby(col)[target_col].mean()\n",
    "            target_means_cats_adj = (target_means_cats*nrows_cat + \n",
    "                                         target_mean_global*alpha)/(nrows_cat+alpha)\n",
    "            # Mapping means to estimated fold\n",
    "            encoded_col_train_part = df_estimated[col].map(target_means_cats_adj)\n",
    " \n",
    "            # Saving estimated encodings for a fold\n",
    "            parts.append(encoded_col_train_part)\n",
    "            encoded_col_train = pd.concat(parts, axis = 0)\n",
    "            encoded_col_train.fillna(target_mean_global, inplace = True)\n",
    "\n",
    "        # Saving the column with means\n",
    "        encoded_col = pd.concat([encoded_col_train, encoded_col_test], axis = 0)\n",
    "        encoded_col[encoded_col.isnull()] = target_mean_global\n",
    "        encoded_cols.append(pd.DataFrame({'mean_'+ target_col + '_' + col:encoded_col}))\n",
    "    all_encoded = pd.concat(encoded_cols, axis = 1)\n",
    "    return (all_encoded.loc[train_data.index,:], \n",
    "            all_encoded.loc[test_data.index,:])"
   ]
  },
  {
   "cell_type": "markdown",
   "metadata": {},
   "source": [
    "<div style = \"color: #000000;\n",
    "             display: fill;\n",
    "             padding: 8px;\n",
    "             border-radius: 5px;\n",
    "             border-style: solid;\n",
    "             border-color: #a63700;\n",
    "             background-color: rgba(235, 125, 66, 0.3)\">\n",
    "    \n",
    "<span style = \"font-size: 20px; font-weight: bold\">Note:</span> \n",
    "<span style=\"font-size: 15px\">This function works properly only if training and test sets have different indices.</span>\n",
    "</div>"
   ]
  },
  {
   "cell_type": "code",
   "execution_count": null,
   "metadata": {},
   "outputs": [],
   "source": [
    "train_mean_encoding = df_train[list(train_high_cat.columns)].copy()\n",
    "train_mean_encoding['SalePrice'] = df_train['SalePrice']\n",
    "\n",
    "target_col = 'SalePrice'\n",
    "columns = train_mean_encoding.columns.tolist()\n",
    "\n",
    "columns_test = columns\n",
    "columns_test.remove('SalePrice')\n",
    "test_mean_encoding = df_test[columns_test]\n",
    "\n",
    "index_0 = list(range(0, 1459))\n",
    "index_1 = list(range(1451, 2910))\n",
    "\n",
    "test_mean_encoding = test_mean_encoding.rename(index = dict(zip(index_0, index_1)))"
   ]
  },
  {
   "cell_type": "code",
   "execution_count": null,
   "metadata": {},
   "outputs": [],
   "source": [
    "Mean_encoding = mean_encode(train_mean_encoding, test_mean_encoding, \n",
    "                            columns, target_col, alpha = 5, folds = 10)"
   ]
  },
  {
   "cell_type": "code",
   "execution_count": null,
   "metadata": {},
   "outputs": [],
   "source": [
    "train_high_cat_encoded = np.log(Mean_encoding[0].reset_index(drop = True))\n",
    "test_high_cat_encoded = np.log(Mean_encoding[1].reset_index(drop = True))"
   ]
  },
  {
   "cell_type": "markdown",
   "metadata": {},
   "source": [
    "### 5.2 One-hot encoding"
   ]
  },
  {
   "cell_type": "markdown",
   "metadata": {},
   "source": [
    "The rest of categorical variables were encoded with the help of one-hot encoding."
   ]
  },
  {
   "cell_type": "code",
   "execution_count": null,
   "metadata": {},
   "outputs": [],
   "source": [
    "from sklearn.preprocessing import OneHotEncoder"
   ]
  },
  {
   "cell_type": "code",
   "execution_count": null,
   "metadata": {},
   "outputs": [],
   "source": [
    "train_test_norm_cat = pd.concat([df_train[train_norm_cat], \n",
    "                                 df_test[train_norm_cat]], \n",
    "                                 axis = 0, join = 'outer', \n",
    "                                 ignore_index = True)"
   ]
  },
  {
   "cell_type": "code",
   "execution_count": null,
   "metadata": {},
   "outputs": [],
   "source": [
    "OHE =  OneHotEncoder(sparse = False, handle_unknown = 'ignore')\n",
    "\n",
    "train_test_norm_cat_OHE = pd.DataFrame(pd.DataFrame(OHE.fit_transform(train_test_norm_cat)))\n",
    "train_test_norm_cat_OHE.columns = OHE.get_feature_names(train_test_norm_cat.columns.tolist())"
   ]
  },
  {
   "cell_type": "markdown",
   "metadata": {},
   "source": [
    "At this stage, you can drop columns that almost entirely consist of a single class."
   ]
  },
  {
   "cell_type": "code",
   "execution_count": null,
   "metadata": {},
   "outputs": [],
   "source": [
    "NULLS = pd.DataFrame({'%_nulls': train_test_norm_cat_OHE.isin([0]).mean()})\n",
    "NULLS = NULLS.reset_index().sort_values(ascending = False, by = '%_nulls')\n",
    "NULLS = NULLS.rename(columns = {'index': 'Variable'})\n",
    "\n",
    "DROP = NULLS.loc[((NULLS['%_nulls'] >= 0.99) | (NULLS['%_nulls'] <= 0.005)), 'Variable'].values"
   ]
  },
  {
   "cell_type": "code",
   "execution_count": null,
   "metadata": {},
   "outputs": [],
   "source": [
    "train_test_norm_cat_OHE = train_test_norm_cat_OHE.drop(DROP, axis = 1)"
   ]
  },
  {
   "cell_type": "code",
   "execution_count": null,
   "metadata": {},
   "outputs": [],
   "source": [
    "train_norm_cat_OHE = train_test_norm_cat_OHE.iloc[:1451, ]\n",
    "test_norm_cat_OHE = (train_test_norm_cat_OHE.iloc[1451:, ]).reset_index(drop = True)"
   ]
  },
  {
   "cell_type": "markdown",
   "metadata": {},
   "source": [
    "### 5.3 Ordinal encoding"
   ]
  },
  {
   "cell_type": "markdown",
   "metadata": {},
   "source": [
    "Playing around with different encoding techniques, I found out that \"OverallQual\" and \"OverallCond\" significantly boosted CV scores when they were encoded ordinally. But I decided to do both: keep them ordinal and one-hot encode them, allowing models to make all difficult choices for themselves."
   ]
  },
  {
   "cell_type": "code",
   "execution_count": null,
   "metadata": {},
   "outputs": [],
   "source": [
    "train_ordinal = pd.DataFrame()\n",
    "test_ordinal = pd.DataFrame()"
   ]
  },
  {
   "cell_type": "code",
   "execution_count": null,
   "metadata": {},
   "outputs": [],
   "source": [
    "train_ordinal['OverallQual'] = df_train['OverallQual']\n",
    "train_ordinal['OverallCond'] = df_train['OverallCond']"
   ]
  },
  {
   "cell_type": "code",
   "execution_count": null,
   "metadata": {},
   "outputs": [],
   "source": [
    "test_ordinal['OverallQual'] = df_test['OverallQual']\n",
    "test_ordinal['OverallCond'] = df_test['OverallCond']"
   ]
  },
  {
   "cell_type": "markdown",
   "metadata": {},
   "source": [
    "## 6. Getting the final training and test sets <a class=\"anchor\" id = \"IV_6\"></a>"
   ]
  },
  {
   "cell_type": "code",
   "execution_count": null,
   "metadata": {},
   "outputs": [],
   "source": [
    "train_cont_balanced_default = df_train[train_cont_balanced].copy()\n",
    "test_cont_balanced_default = df_test[train_cont_balanced].copy()"
   ]
  },
  {
   "cell_type": "code",
   "execution_count": null,
   "metadata": {},
   "outputs": [],
   "source": [
    "train_list = [train_high_cat_encoded, train_norm_cat_OHE,\n",
    "              train_cont_balanced_default, train_ordinal]"
   ]
  },
  {
   "cell_type": "code",
   "execution_count": null,
   "metadata": {},
   "outputs": [],
   "source": [
    "X_train = pd.concat(train_list, axis = 1)\n",
    "y = np.log(df_train['SalePrice'])"
   ]
  },
  {
   "cell_type": "code",
   "execution_count": null,
   "metadata": {},
   "outputs": [],
   "source": [
    "test_list = [test_high_cat_encoded, test_norm_cat_OHE,\n",
    "             test_cont_balanced_default, test_ordinal]"
   ]
  },
  {
   "cell_type": "code",
   "execution_count": null,
   "metadata": {},
   "outputs": [],
   "source": [
    "X_test = pd.concat(test_list, axis = 1)"
   ]
  },
  {
   "cell_type": "markdown",
   "metadata": {},
   "source": [
    "<h1><center> V. Building models </center></h1> <a class=\"anchor\" id = \"V\"></a>"
   ]
  },
  {
   "cell_type": "markdown",
   "metadata": {},
   "source": [
    "I built 6 models: **Lasso**, **ElasticNet**, **XGB**, **LGBM**, **SVR** and **KNN**, and then stacked them using <span style = \"color: #E85E40\"> StackingRegressor </span>. Since tuning hyperparameters took me about 2 hours (XGB was quite slow), I run only the final (tuned) models in this notebook, but you can still see how they were tuned. I mostly relied on <span style = \"color: #E85E40\"> RandomizedSearchCV </span>."
   ]
  },
  {
   "cell_type": "markdown",
   "metadata": {},
   "source": [
    "## 1. Tuning models <a class=\"anchor\" id = \"V_1\"></a>"
   ]
  },
  {
   "cell_type": "code",
   "execution_count": null,
   "metadata": {
    "_kg_hide-input": true
   },
   "outputs": [],
   "source": [
    "from sklearn.model_selection import GridSearchCV\n",
    "from sklearn.model_selection import RandomizedSearchCV\n",
    "\n",
    "from sklearn.model_selection import RepeatedKFold\n",
    "from sklearn.model_selection import KFold\n",
    "\n",
    "CV = KFold(n_splits = 10, random_state = 999, shuffle = True)\n",
    "CV_rep = RepeatedKFold(n_splits = 10, n_repeats = 3, random_state = 999)\n",
    "\n",
    "# 1.1 Lasso\n",
    "\n",
    "from sklearn import linear_model\n",
    "\n",
    "###### Training a model ######\n",
    "\n",
    "# %%time\n",
    "\n",
    "# Lasso_model = linear_model.Lasso()\n",
    "\n",
    "# alpha = {'alpha': [x / 25000 for x in range(1, 50, 1)],\n",
    "#          'tol': [0.0000001], \n",
    "#          'max_iter': [3000]}\n",
    "\n",
    "# Lasso_grid = GridSearchCV(Lasso_model, alpha, verbose = True, \n",
    "#                           scoring = 'neg_root_mean_squared_error', \n",
    "#                           n_jobs = 7, cv = CV)\n",
    "\n",
    "# Lasso_fit = Lasso_grid.fit(X_train, y)\n",
    "\n",
    "###### Getting scores and parameters ######\n",
    "\n",
    "# round(-1*Lasso_fit.best_score_, 5)\n",
    "# Lasso_fit.best_params_\n",
    "\n",
    "###### Getting feature importance ######\n",
    "\n",
    "# FI_lasso = list(zip(abs(Lasso_fit.best_estimator_.coef_), X_train.columns))\n",
    "# FI_lasso = pd.DataFrame(FI_lasso, columns = ['Imp', 'Variable'])\n",
    "# FI_lasso = FI_lasso.sort_values(ascending = False, by = 'Imp')\n",
    "\n",
    "########################################\n",
    "\n",
    "# 1.2 Elastic Net\n",
    "\n",
    "###### Training a model ######\n",
    "\n",
    "# %%time\n",
    "\n",
    "# ElasticNet_model = linear_model.ElasticNet()\n",
    "\n",
    "# alpha_l1 = {'alpha': [x / 25000 for x in range(1, 25, 1)],\n",
    "#             'l1_ratio': [x / 100 for x in range(10, 100, 1)],\n",
    "#             'tol': [0.000001], \n",
    "#             'max_iter': [4000]}\n",
    "\n",
    "# ElasticNet_random = RandomizedSearchCV(ElasticNet_model, alpha_l1, verbose = True, \n",
    "#                                        scoring = 'neg_root_mean_squared_error', \n",
    "#                                        n_jobs = 7, cv = CV, n_iter = 50)\n",
    "\n",
    "# ElasticNet_fit = ElasticNet_random.fit(X_train, y)\n",
    "\n",
    "###### Getting scores and parameters ######\n",
    "\n",
    "# round(-1*ElasticNet_fit.best_score_, 5)\n",
    "# ElasticNet_fit.best_params_\n",
    "\n",
    "########################################\n",
    "\n",
    "# 1.3 XGBoost\n",
    "\n",
    "import xgboost as xgb\n",
    "from sklearn.model_selection import train_test_split\n",
    "\n",
    "x_train, x_test, y_train, y_test = train_test_split(X_train, y, \n",
    "                                   test_size = 0.1, random_state = 999, \n",
    "                                   shuffle = True)\n",
    "\n",
    "###### Training a model ######\n",
    "\n",
    "# %%time\n",
    "\n",
    "# XGB_model = xgb.XGBRegressor(use_label_encoder = False, \n",
    "#                              eval_metric = 'rmse', \n",
    "#                              n_estimators = 10000)\n",
    "\n",
    "# XGB_param_Random = {'reg_alpha': [0.01, 0.05, 0.1, 0.2, 0.5, 1, 2, 3],\n",
    "#                     'reg_lambda': [0.01, 0.05, 0.1, 0.2, 0.5, 1, 2, 3],\n",
    "#                     'learning_rate': [x / 400 for x in range(1, 10, 1)],\n",
    "#                     'max_depth': list(range(2, 15, 1)),\n",
    "#                     'min_child_weight': list(range(2, 35, 1)),\n",
    "#                     'gamma': [x / 200 for x in range(0, 50, 1)],\n",
    "#                     'subsample': [0.5, 0.6, 0.7, 0.8, 0.9],\n",
    "#                     'colsample_bytree': [0.5, 0.6, 0.7, 0.8, 0.9]}\n",
    "\n",
    "# XGB_random_grid = RandomizedSearchCV(XGB_model, XGB_param_Random, cv = CV, \n",
    "#                                      verbose = False, n_jobs = 7, \n",
    "#                                      scoring = 'neg_root_mean_squared_error', \n",
    "#                                      n_iter = 65)\n",
    "\n",
    "# XGB_fit = XGB_random_grid.fit(x_train, y_train, \n",
    "#                               early_stopping_rounds = 200, \n",
    "#                               eval_set = [[x_test, y_test]], \n",
    "#                               eval_metric = 'rmse', verbose = False)\n",
    "\n",
    "###### Getting scores and parameters ######\n",
    "\n",
    "# round(-1*XGB_fit.best_score_, 5)\n",
    "# XGB_fit.best_params_\n",
    "\n",
    "########################################\n",
    "\n",
    "# 1.4 LGBM\n",
    "\n",
    "import lightgbm as lgb\n",
    "\n",
    "from scipy.stats import randint\n",
    "from scipy.stats import uniform\n",
    "\n",
    "###### Training a model ######\n",
    "\n",
    "# %%time\n",
    "\n",
    "# LGBM_model = lgb.LGBMRegressor(n_estimators = 10000)\n",
    "\n",
    "# LGBM_param_Random = {'reg_lambda': [0.01, 0.05, 0.1, 0.2, 0.5, 1, 2],\n",
    "#                      'reg_alpha': [0.01, 0.05, 0.1, 0.2, 0.5, 1, 2],\n",
    "#                      'min_child_samples': randint(1, 100),\n",
    "#                      'subsample': [x / 10 for x in range(1, 10, 1)], # bagging_fraction\n",
    "#                      'subsample_freq': randint(1, 200), # bagging_freq\n",
    "#                      'num_leaves': randint(1, 200),\n",
    "#                      'max_depth': list(range(1, 15, 1)),\n",
    "#                      'max_bin': randint(1, 700),\n",
    "#                      'learning_rate': [x / 200 for x in range(1, 10, 1)],\n",
    "#                      'colsample_bytree': [x / 10 for x in range(1, 11, 1)]} # feature_fraction \n",
    "                        \n",
    "                    \n",
    "# LGBM_random_grid = RandomizedSearchCV(LGBM_model, LGBM_param_Random, cv = CV, \n",
    "#                                       verbose = False, n_jobs = 7, \n",
    "#                                       scoring = 'neg_root_mean_squared_error', n_iter = 100)\n",
    "\n",
    "# LGBM_fit = LGBM_random_grid.fit(x_train, y_train, early_stopping_rounds = 100, \n",
    "#                                 eval_set = [[x_test, y_test]], \n",
    "#                                 eval_metric = 'rmse', verbose = False)\n",
    "\n",
    "###### Getting scores and parameters ######\n",
    "\n",
    "# round(-1*LGBM_fit.best_score_, 5)\n",
    "# LGBM_fit.best_params_\n",
    "\n",
    "########################################\n",
    "\n",
    "# 1.5 SVR\n",
    "\n",
    "# Before using KNN or SVR, we have to scale data!\n",
    "\n",
    "from sklearn.preprocessing import RobustScaler\n",
    "\n",
    "vars_for_scaling = (train_high_cat_encoded.columns.tolist() + \n",
    "                   train_cont_balanced_default.columns.tolist())\n",
    "\n",
    "Scaler = RobustScaler()\n",
    "\n",
    "X_train_scaled = X_train.copy()\n",
    "X_test_scaled = X_test.copy()\n",
    "\n",
    "for column in vars_for_scaling:\n",
    "    \n",
    "    X_train_scaled[column] = Scaler.fit_transform(X_train[[column]])\n",
    "    X_test_scaled[column] = Scaler.fit_transform(X_test[[column]])\n",
    "    \n",
    "from sklearn.svm import SVR\n",
    "\n",
    "###### Training a model ######\n",
    "\n",
    "# %%time\n",
    "\n",
    "# SVR_model = SVR()\n",
    "\n",
    "# parameters = {'kernel' : ['rbf'],\n",
    "#               'C' : list(range(1, 100, 1)),\n",
    "#               'epsilon' : [x / 2000 for x in range(1, 50, 1)],\n",
    "#               'gamma' : [x / 10000 for x in range(1, 50, 1)]}\n",
    "\n",
    "# SVR_random_grid = RandomizedSearchCV(SVR_model, parameters, cv = CV, \n",
    "#                                      verbose = False, n_jobs = 7, \n",
    "#                                      scoring = 'neg_root_mean_squared_error', \n",
    "#                                      n_iter = 60)\n",
    "\n",
    "# SVR_fit = SVR_random_grid.fit(X_train_scaled, y)\n",
    "\n",
    "###### Getting scores and parameters ######\n",
    "\n",
    "# round(-1*SVR_fit.best_score_, 3)\n",
    "# SVR_fit.best_params_\n",
    "\n",
    "########################################\n",
    "\n",
    "# 1.6 KNN\n",
    "\n",
    "from sklearn.neighbors import KNeighborsRegressor\n",
    "\n",
    "###### Training a model ######\n",
    "\n",
    "# %%time\n",
    "\n",
    "# KNN_model = KNeighborsRegressor()\n",
    "\n",
    "# KNN_param_Random = {'leaf_size': list(range(1, 50, 1)),\n",
    "#                     'n_neighbors': list(range(1, 50, 1)),\n",
    "#                     'p' : [1, 2], \n",
    "#                     'weights': ('uniform', 'distance'),\n",
    "#                     'metric': ('minkowski', 'chebyshev'), \n",
    "#                     'algorithm': ('ball_tree', 'kd_tree')}\n",
    "\n",
    "# KNN_random_grid = RandomizedSearchCV(KNN_model, KNN_param_Random, cv = CV_rep,  \n",
    "#                                      scoring = 'neg_root_mean_squared_error', \n",
    "#                                      verbose = True, n_jobs = 7, n_iter = 100)\n",
    "\n",
    "# KNN_fit = KNN_random_grid.fit(X_train_scaled, y)\n",
    "\n",
    "###### Getting scores and parameters ######\n",
    "\n",
    "# round(-1*KNN_fit.best_score_, 5)\n",
    "# KNN_fit.best_params_"
   ]
  },
  {
   "cell_type": "markdown",
   "metadata": {},
   "source": [
    "## 2. Stacking <a class=\"anchor\" id = \"V_2\"></a>"
   ]
  },
  {
   "cell_type": "code",
   "execution_count": null,
   "metadata": {},
   "outputs": [],
   "source": [
    "from sklearn.ensemble import StackingRegressor\n",
    "from sklearn.pipeline import make_pipeline"
   ]
  },
  {
   "cell_type": "code",
   "execution_count": null,
   "metadata": {},
   "outputs": [],
   "source": [
    "base_learners = [\n",
    "                 ('Lasso', linear_model.Lasso(tol = 1e-7, \n",
    "                           alpha = 0.00028, max_iter = 3000)),\n",
    "    \n",
    "                 ('El_Net', linear_model.ElasticNet(tol = 1e-6, \n",
    "                            alpha = 0.00044, l1_ratio = 0.61, max_iter = 4000)),\n",
    "    \n",
    "                 ('XGB', xgb.XGBRegressor(use_label_encoder = False, \n",
    "                         eval_metric = 'rmse',                   \n",
    "                         n_estimators = 5000,\n",
    "                         reg_alpha = 0.1,\n",
    "                         reg_lambda = 0.005,\n",
    "                         learning_rate = 0.0125,\n",
    "                         max_depth = 13,\n",
    "                         min_child_weight = 4,\n",
    "                         gamma = 0.04,\n",
    "                         subsample = 0.7,\n",
    "                         colsample_bytree = 0.6)),\n",
    "    \n",
    "                 ('LGBM', lgb.LGBMRegressor(\n",
    "                          n_estimators = 9000,\n",
    "                          reg_lambda = 1.8,\n",
    "                          reg_alpha = 0.01,\n",
    "                          min_child_samples = 13,\n",
    "                          subsample = 0.8,\n",
    "                          subsample_freq = 11,\n",
    "                          num_leaves = 101,\n",
    "                          max_depth = 3,\n",
    "                          max_bin = 160,\n",
    "                          learning_rate = 0.005,\n",
    "                          colsample_bytree = 0.1)),\n",
    "    \n",
    "                 ('KNN', make_pipeline(RobustScaler(), \n",
    "                         KNeighborsRegressor(\n",
    "                         leaf_size = 25,\n",
    "                         n_neighbors = 9,\n",
    "                         p = 1,\n",
    "                         weights = 'distance',\n",
    "                         metric = 'minkowski',\n",
    "                         algorithm = 'ball_tree'))),\n",
    "    \n",
    "                 ('SVR', make_pipeline(RobustScaler(), \n",
    "                         SVR(\n",
    "                         kernel = 'rbf',\n",
    "                         C =  10, \n",
    "                         epsilon =  0.017,\n",
    "                         gamma =  0.0007)))\n",
    "                ]"
   ]
  },
  {
   "cell_type": "code",
   "execution_count": null,
   "metadata": {},
   "outputs": [],
   "source": [
    "Final_stack = StackingRegressor(estimators = base_learners, \n",
    "                                final_estimator = linear_model.Lasso(tol = 1e-7, \n",
    "                                alpha = 0.00028, max_iter = 3000), \n",
    "                                passthrough = True, verbose = False, \n",
    "                                cv = 5)"
   ]
  },
  {
   "cell_type": "code",
   "execution_count": null,
   "metadata": {},
   "outputs": [],
   "source": [
    "Final_fit = Final_stack.fit(X_train, y)\n",
    "\n",
    "y_pred = Final_fit.predict(X_test)"
   ]
  },
  {
   "cell_type": "code",
   "execution_count": null,
   "metadata": {},
   "outputs": [],
   "source": [
    "submission = pd.DataFrame({'Id': list(range(1461, 2920)), 'SalePrice': np.exp(y_pred)})\n",
    "submission.to_csv('submission.csv', index = False)"
   ]
  },
  {
   "cell_type": "markdown",
   "metadata": {},
   "source": [
    "<h1><center> VI. Some techniques that could have been useful </center></h1> <a class=\"anchor\" id = \"VI\"></a>"
   ]
  },
  {
   "cell_type": "markdown",
   "metadata": {},
   "source": [
    "In this segment I included some feature engineering options that didn't really work in this case (based on CV scores) but might be valuable in other situations."
   ]
  },
  {
   "cell_type": "markdown",
   "metadata": {},
   "source": [
    "## 1. Feature interactions <a class=\"anchor\" id = \"VI_1\"></a>"
   ]
  },
  {
   "cell_type": "markdown",
   "metadata": {},
   "source": [
    "Sometimes interactions between variables may prove to be valuable. Instead of picking pairs of predictors by hand and crossing them via various mathematical operations, you can automate this process to some extent.\n",
    "\n",
    "At first, define what variables you want to use. For instance, you can collect features that are highly correlated with your target:"
   ]
  },
  {
   "cell_type": "code",
   "execution_count": null,
   "metadata": {},
   "outputs": [],
   "source": [
    "Corr_vars = abs(df_train.corr()['SalePrice']).sort_values(ascending = False)"
   ]
  },
  {
   "cell_type": "code",
   "execution_count": null,
   "metadata": {},
   "outputs": [],
   "source": [
    "High_corr_vars = Corr_vars.loc[Corr_vars > 0.6].index.tolist()\n",
    "High_corr_vars.remove('SalePrice')"
   ]
  },
  {
   "cell_type": "code",
   "execution_count": null,
   "metadata": {},
   "outputs": [],
   "source": [
    "High_corr_vars"
   ]
  },
  {
   "cell_type": "markdown",
   "metadata": {},
   "source": [
    "Following that, you should create combinations of the previously picked variables and multiply them, for example."
   ]
  },
  {
   "cell_type": "code",
   "execution_count": null,
   "metadata": {},
   "outputs": [],
   "source": [
    "from itertools import combinations"
   ]
  },
  {
   "cell_type": "code",
   "execution_count": null,
   "metadata": {},
   "outputs": [],
   "source": [
    "train_cont_comb = pd.DataFrame()"
   ]
  },
  {
   "cell_type": "code",
   "execution_count": null,
   "metadata": {},
   "outputs": [],
   "source": [
    "for c_1, c_2 in combinations(df_train[High_corr_vars], 2):\n",
    "    \n",
    "    train_cont_comb['{0}*{1}'.format(c_1, c_2)] = df_train[c_1] * df_train[c_2]"
   ]
  },
  {
   "cell_type": "code",
   "execution_count": null,
   "metadata": {},
   "outputs": [],
   "source": [
    "train_cont_comb.head(3).round(1)"
   ]
  },
  {
   "cell_type": "markdown",
   "metadata": {},
   "source": [
    "Finally, you can train a model that has a built-in regularisation (Lasso, for instance) and see what variables are actually important."
   ]
  },
  {
   "cell_type": "markdown",
   "metadata": {},
   "source": [
    "## Thanks for reading!"
   ]
  }
 ],
 "metadata": {
  "kernelspec": {
   "display_name": "Python 3",
   "language": "python",
   "name": "python3"
  },
  "language_info": {
   "codemirror_mode": {
    "name": "ipython",
    "version": 3
   },
   "file_extension": ".py",
   "mimetype": "text/x-python",
   "name": "python",
   "nbconvert_exporter": "python",
   "pygments_lexer": "ipython3",
   "version": "3.8.5"
  }
 },
 "nbformat": 4,
 "nbformat_minor": 4
}
